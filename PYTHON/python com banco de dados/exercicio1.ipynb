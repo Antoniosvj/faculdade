{
 "cells": [
  {
   "cell_type": "code",
   "execution_count": 1,
   "metadata": {},
   "outputs": [],
   "source": [
    "import sqlite3\n",
    "\n",
    "#abrir uma conecção com BD\n",
    "conn = sqlite3.connect('exercicio1.bd')\n",
    "\n",
    "#criar um cursor para executar comandos sql\n",
    "cursor = conn.cursor()"
   ]
  },
  {
   "cell_type": "code",
   "execution_count": 2,
   "metadata": {},
   "outputs": [
    {
     "data": {
      "text/plain": [
       "<sqlite3.Cursor at 0x73b92cbd18c0>"
      ]
     },
     "execution_count": 2,
     "metadata": {},
     "output_type": "execute_result"
    }
   ],
   "source": [
    "#criar tabela\n",
    "cursor.execute('''\n",
    "    CREATE TABLE IF NOT EXISTS usuarios(\n",
    "               id INTERGER PRIMARY KEY,\n",
    "               nome TEXT,\n",
    "               idade INTERGER\n",
    "    )\n",
    "''')"
   ]
  },
  {
   "cell_type": "code",
   "execution_count": 5,
   "metadata": {},
   "outputs": [
    {
     "data": {
      "text/plain": [
       "<function Connection.commit()>"
      ]
     },
     "execution_count": 5,
     "metadata": {},
     "output_type": "execute_result"
    }
   ],
   "source": [
    "#inserir dados\n",
    "cursor.execute(\"INSERT INTO usuarios (nome, idade) VALUES (?,?)\", ('Antonio', 36))\n",
    "cursor.execute(\"INSERT INTO usuarios (nome, idade) VALUES (?,?)\", ('Lorena', 37))\n",
    "conn.commit #persistir os dados no banco de dados"
   ]
  },
  {
   "cell_type": "code",
   "execution_count": 13,
   "metadata": {},
   "outputs": [
    {
     "name": "stdout",
     "output_type": "stream",
     "text": [
      "Registros na tabela: \n",
      "(None, 'Lorena', 37)\n",
      "(None, 'Lorena', 37)\n",
      "(None, 'Lorena', 37)\n"
     ]
    }
   ],
   "source": [
    "#realizar uma consulta\n",
    "cursor.execute(\"SELECT * FROM usuarios\")\n",
    "print(\"Registros na tabela: \")\n",
    "for registro in cursor.fetchall():#comando para trazer dados da consulta\n",
    "    print (registro)"
   ]
  },
  {
   "cell_type": "code",
   "execution_count": 9,
   "metadata": {},
   "outputs": [],
   "source": [
    "#atualizar registro idade\n",
    "cursor.execute(\"UPDATE usuarios SET idade = ? WHERE nome = ?\", (37, 'Antonio'))\n",
    "conn.commit()"
   ]
  },
  {
   "cell_type": "code",
   "execution_count": 12,
   "metadata": {},
   "outputs": [],
   "source": [
    "#excluir registro\n",
    "cursor.execute(\"DELETE FROM usuarios WHERE nome = ?\", ('Antonio',))\n",
    "conn.commit()"
   ]
  },
  {
   "cell_type": "code",
   "execution_count": 14,
   "metadata": {},
   "outputs": [],
   "source": [
    "#fechar cursor\n",
    "cursor.close()\n",
    "conn.close()"
   ]
  }
 ],
 "metadata": {
  "kernelspec": {
   "display_name": "Python 3",
   "language": "python",
   "name": "python3"
  },
  "language_info": {
   "codemirror_mode": {
    "name": "ipython",
    "version": 3
   },
   "file_extension": ".py",
   "mimetype": "text/x-python",
   "name": "python",
   "nbconvert_exporter": "python",
   "pygments_lexer": "ipython3",
   "version": "3.10.12"
  }
 },
 "nbformat": 4,
 "nbformat_minor": 2
}
