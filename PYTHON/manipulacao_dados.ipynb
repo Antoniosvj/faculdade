{
 "cells": [
  {
   "cell_type": "code",
   "execution_count": 2,
   "metadata": {},
   "outputs": [],
   "source": [
    "with open(\"texte.txt\", 'w') as arquivo: #manipula o arquivo e caso não exista ele cria - no metodo w caso ja tenha o arquivo ira apagar o que ja esta escrito\n",
    "    arquivo.write('escrevendo no arquivo') #  escreve no arquivo aberto anteriormente"
   ]
  },
  {
   "cell_type": "code",
   "execution_count": 3,
   "metadata": {},
   "outputs": [],
   "source": [
    "with open(\"texte.txt\", 'a') as arquivo: #metodo a vai escrever abaixo do que ja esta escrito no arquivo\n",
    "    arquivo.write('\\nEscrevendo outra linha sem apagar a primeira')"
   ]
  },
  {
   "cell_type": "code",
   "execution_count": 6,
   "metadata": {},
   "outputs": [
    {
     "name": "stdout",
     "output_type": "stream",
     "text": [
      "['escrevendo no arquivo\\n', 'Escrevendo outra linha sem apagar a primeira']\n"
     ]
    }
   ],
   "source": [
    "with open('texte.txt', 'r') as arquivo:\n",
    "    \n",
    "    print(arquivo.readlines())"
   ]
  }
 ],
 "metadata": {
  "kernelspec": {
   "display_name": "Python 3",
   "language": "python",
   "name": "python3"
  },
  "language_info": {
   "codemirror_mode": {
    "name": "ipython",
    "version": 3
   },
   "file_extension": ".py",
   "mimetype": "text/x-python",
   "name": "python",
   "nbconvert_exporter": "python",
   "pygments_lexer": "ipython3",
   "version": "3.10.12"
  }
 },
 "nbformat": 4,
 "nbformat_minor": 2
}
